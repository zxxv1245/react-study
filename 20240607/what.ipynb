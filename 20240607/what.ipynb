{
 "cells": [
  {
   "cell_type": "markdown",
   "metadata": {},
   "source": [
    "# Hooks\n",
    "\n",
    "What is Hooks?\n",
    "\n",
    "state 와 Lifecycle 에 뭔가 붙여서 쓰는 느낌?\n",
    "\n",
    "useState\n",
    "\n",
    "useEffect \n",
    "\n",
    "\n",
    "Side effect => (react 에서)효과, 영향\n",
    "\n",
    "\n",
    "useMemo => (vue로 치면 computed ? 같은 느낌?)\n",
    "\n",
    "useCallBack => (vue로 치면 watch ? 같은 느낌?)\n",
    "\n",
    "useRef\n",
    "\n",
    "\n",
    "### Hook의 규칙\n",
    "1. Hook은 무조건 최상위 레벨에서만 호출해야 한다.\n",
    "\n",
    "\n",
    "- Hook은 컴포넌트가 렌더링 될 때마다 매번 같은 순서로 호출되어야 한다.\n",
    "\n",
    "2. 리액트 함수 컴포넌트에서만 Hook을 호출해야 한다.\n",
    "\n",
    "eslint-plugin-react-hooks \n",
    "\n",
    "\n",
    "Custtom Hook 만들기\n",
    "\n",
    "- 이름이 use로 시작하고 내부에서 다른 Hook을 호출하는 하나의 자바스크립트 함수\n"
   ]
  },
  {
   "cell_type": "markdown",
   "metadata": {},
   "source": []
  }
 ],
 "metadata": {
  "language_info": {
   "name": "python"
  }
 },
 "nbformat": 4,
 "nbformat_minor": 2
}
