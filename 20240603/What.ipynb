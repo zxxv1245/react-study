{
 "cells": [
  {
   "cell_type": "markdown",
   "metadata": {},
   "source": [
    "### What is React\n",
    "\n",
    "### javascript UI library\n",
    "\n",
    "### 사용자 인터페이스(User Interface, UI)\n",
    "\n",
    "#### 프레임워크 vs 라이브러리\n",
    "##### 프로그래밍 흐름에 대한 제어권한 차이\n",
    "\n",
    "##### SPA(Single Page Application)\n",
    "##### Virtual DOM \n",
    "##### DOM(Document Object Model)\n",
    "##### 화면 업데이트 -->  DOM 수정\n",
    "##### but react는 DOM 최소한으로 하고 업데이트해야하는 부분만 수정\n",
    "##### component들의 모음\n",
    "##### 재사용성(Reusability)\n",
    "##### - 개발기간 단축 가능\n",
    "##### - 유지보수가 용이\n",
    "\n",
    "\n",
    "열심히하자 뚠뚠 \n",
    "꾸준히 하자 뚠뚠\n",
    "\n",
    "npx create-react-app <appname>\n",
    "\n",
    "cd <appname>\n",
    "\n",
    "npm start\n",
    "\n",
    "\n",
    "\n",
    "JSX What?\n",
    "'JS' = java script\n",
    "'X' = XML/HTML\n",
    "\n",
    "리액트에서 JSX는 필수는 아니지만 코드가 간결해지고 생산성과 가독성이 올라감\n",
    "\n",
    "장점\n",
    "- 코드가 간결해짐\n",
    "등등\n",
    "\n",
    "사용법\n",
    "??????... 여기저기 사용된다,,, 중괄호 사이에 java script code,,,\n",
    "\n"
   ]
  },
  {
   "cell_type": "markdown",
   "metadata": {},
   "source": []
  }
 ],
 "metadata": {
  "kernelspec": {
   "display_name": "Python 3",
   "language": "python",
   "name": "python3"
  },
  "language_info": {
   "name": "python",
   "version": "3.9.13"
  }
 },
 "nbformat": 4,
 "nbformat_minor": 2
}
