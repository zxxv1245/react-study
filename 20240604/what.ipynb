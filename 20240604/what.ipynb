{
 "cells": [
  {
   "cell_type": "markdown",
   "metadata": {},
   "source": [
    "20240604\n",
    "\n",
    "Rending Elements\n",
    "어떤 물체를 구성하는 성분\n",
    "리액트를 구성하는 가장 작은 블럭들\n",
    "\n",
    "React Elements\n",
    "\n",
    "immutable 불변성?\n",
    "Elements 생성후에는 children이나 attributes를 바꿀 수 없다\n",
    "\n"
   ]
  },
  {
   "cell_type": "markdown",
   "metadata": {},
   "source": []
  },
  {
   "cell_type": "markdown",
   "metadata": {},
   "source": [
    "Components\n",
    "\n",
    "Element에 props라는 각각 다른 정보를 전달\n",
    "(vue.js 할 때 props 사용하던거 생각하면 이해 빠름)\n",
    "\n",
    "\n",
    "\n",
    "props \n",
    "\n",
    "read only 읽기 전용임\n"
   ]
  },
  {
   "cell_type": "markdown",
   "metadata": {},
   "source": []
  },
  {
   "cell_type": "markdown",
   "metadata": {},
   "source": [
    "State and Lifecycle"
   ]
  }
 ],
 "metadata": {
  "language_info": {
   "name": "python"
  }
 },
 "nbformat": 4,
 "nbformat_minor": 2
}
